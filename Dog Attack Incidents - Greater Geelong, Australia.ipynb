{
 "cells": [
  {
   "cell_type": "markdown",
   "metadata": {},
   "source": [
    "Simple EDA combined with basic data cleaning and dat visualization\n",
    "\n",
    "The purpose of this EDA is to get familiarized with commonly used Python DS libraries - Pandas, Numpy, and Matplotlib.\n",
    "\n",
    "The goal of this EDA is to find out which type of dog breeds are most aggresive and the type of injuries that are most common.\n",
    "\n",
    "This dataset observes dog attacks spanning from 2010-2015 in Geelong City, Austrlia. \n",
    "Data downloaded from: https://data.gov.au/data/dataset/geelong-dog-attacks"
   ]
  },
  {
   "cell_type": "code",
   "execution_count": 1,
   "metadata": {},
   "outputs": [],
   "source": [
    "import pandas as pd\n",
    "import numpy as np\n",
    "import matplotlib.pyplot as plt"
   ]
  },
  {
   "cell_type": "code",
   "execution_count": 2,
   "metadata": {},
   "outputs": [],
   "source": [
    "df = pd.read_csv('dogattacks.csv')"
   ]
  },
  {
   "cell_type": "code",
   "execution_count": 3,
   "metadata": {},
   "outputs": [
    {
     "data": {
      "text/html": [
       "<div>\n",
       "<style scoped>\n",
       "    .dataframe tbody tr th:only-of-type {\n",
       "        vertical-align: middle;\n",
       "    }\n",
       "\n",
       "    .dataframe tbody tr th {\n",
       "        vertical-align: top;\n",
       "    }\n",
       "\n",
       "    .dataframe thead th {\n",
       "        text-align: right;\n",
       "    }\n",
       "</style>\n",
       "<table border=\"1\" class=\"dataframe\">\n",
       "  <thead>\n",
       "    <tr style=\"text-align: right;\">\n",
       "      <th></th>\n",
       "      <th>suburb</th>\n",
       "      <th>incident_date</th>\n",
       "      <th>injuries</th>\n",
       "      <th>offender</th>\n",
       "      <th>victim</th>\n",
       "    </tr>\n",
       "  </thead>\n",
       "  <tbody>\n",
       "    <tr>\n",
       "      <th>0</th>\n",
       "      <td>Ocean Throughway</td>\n",
       "      <td>1/4/2015</td>\n",
       "      <td>no injuries</td>\n",
       "      <td>??</td>\n",
       "      <td>Dog</td>\n",
       "    </tr>\n",
       "    <tr>\n",
       "      <th>1</th>\n",
       "      <td>Ocean Grove</td>\n",
       "      <td>1/6/2015</td>\n",
       "      <td>bite marks</td>\n",
       "      <td>Jack Russell</td>\n",
       "      <td>Person/dog</td>\n",
       "    </tr>\n",
       "    <tr>\n",
       "      <th>2</th>\n",
       "      <td>Grovedale</td>\n",
       "      <td>1/7/2015</td>\n",
       "      <td>bites</td>\n",
       "      <td>??</td>\n",
       "      <td>Dog</td>\n",
       "    </tr>\n",
       "    <tr>\n",
       "      <th>3</th>\n",
       "      <td>Norlane</td>\n",
       "      <td>1/7/2015</td>\n",
       "      <td>bites</td>\n",
       "      <td>??</td>\n",
       "      <td>Cat</td>\n",
       "    </tr>\n",
       "    <tr>\n",
       "      <th>4</th>\n",
       "      <td>Corio</td>\n",
       "      <td>1/8/2015</td>\n",
       "      <td>bites</td>\n",
       "      <td>??</td>\n",
       "      <td>Dog</td>\n",
       "    </tr>\n",
       "  </tbody>\n",
       "</table>\n",
       "</div>"
      ],
      "text/plain": [
       "             suburb incident_date     injuries      offender      victim\n",
       "0  Ocean Throughway      1/4/2015  no injuries            ??         Dog\n",
       "1       Ocean Grove      1/6/2015   bite marks  Jack Russell  Person/dog\n",
       "2         Grovedale      1/7/2015        bites            ??         Dog\n",
       "3           Norlane      1/7/2015        bites            ??         Cat\n",
       "4             Corio      1/8/2015        bites            ??         Dog"
      ]
     },
     "execution_count": 3,
     "metadata": {},
     "output_type": "execute_result"
    }
   ],
   "source": [
    "df.head()"
   ]
  },
  {
   "cell_type": "code",
   "execution_count": 4,
   "metadata": {},
   "outputs": [
    {
     "name": "stdout",
     "output_type": "stream",
     "text": [
      "<class 'pandas.core.frame.DataFrame'>\n",
      "RangeIndex: 786 entries, 0 to 785\n",
      "Data columns (total 5 columns):\n",
      " #   Column         Non-Null Count  Dtype \n",
      "---  ------         --------------  ----- \n",
      " 0   suburb         781 non-null    object\n",
      " 1   incident_date  755 non-null    object\n",
      " 2   injuries       462 non-null    object\n",
      " 3   offender       730 non-null    object\n",
      " 4   victim         780 non-null    object\n",
      "dtypes: object(5)\n",
      "memory usage: 30.8+ KB\n"
     ]
    }
   ],
   "source": [
    "df.info()"
   ]
  },
  {
   "cell_type": "code",
   "execution_count": 5,
   "metadata": {},
   "outputs": [
    {
     "data": {
      "text/plain": [
       "suburb             5\n",
       "incident_date     31\n",
       "injuries         324\n",
       "offender          56\n",
       "victim             6\n",
       "dtype: int64"
      ]
     },
     "execution_count": 5,
     "metadata": {},
     "output_type": "execute_result"
    }
   ],
   "source": [
    "df.isnull().sum()"
   ]
  },
  {
   "cell_type": "markdown",
   "metadata": {},
   "source": [
    "There is a lot of missing data here. Missing data/suburb columns aren't very important for the type of analysis that I am trying accomplish. I'm simply trying to understand which dog breeds are more aggresive or have a higher frequency of attacks.\n",
    "\n",
    "Any rows with missing data in the offender column need to be removed since this is critical data for the analysis. "
   ]
  },
  {
   "cell_type": "code",
   "execution_count": 6,
   "metadata": {},
   "outputs": [
    {
     "data": {
      "text/html": [
       "<div>\n",
       "<style scoped>\n",
       "    .dataframe tbody tr th:only-of-type {\n",
       "        vertical-align: middle;\n",
       "    }\n",
       "\n",
       "    .dataframe tbody tr th {\n",
       "        vertical-align: top;\n",
       "    }\n",
       "\n",
       "    .dataframe thead th {\n",
       "        text-align: right;\n",
       "    }\n",
       "</style>\n",
       "<table border=\"1\" class=\"dataframe\">\n",
       "  <thead>\n",
       "    <tr style=\"text-align: right;\">\n",
       "      <th></th>\n",
       "      <th>suburb</th>\n",
       "      <th>incident_date</th>\n",
       "      <th>injuries</th>\n",
       "      <th>offender</th>\n",
       "      <th>victim</th>\n",
       "    </tr>\n",
       "  </thead>\n",
       "  <tbody>\n",
       "    <tr>\n",
       "      <th>count</th>\n",
       "      <td>781</td>\n",
       "      <td>755</td>\n",
       "      <td>462</td>\n",
       "      <td>730</td>\n",
       "      <td>780</td>\n",
       "    </tr>\n",
       "    <tr>\n",
       "      <th>unique</th>\n",
       "      <td>92</td>\n",
       "      <td>585</td>\n",
       "      <td>148</td>\n",
       "      <td>341</td>\n",
       "      <td>89</td>\n",
       "    </tr>\n",
       "    <tr>\n",
       "      <th>top</th>\n",
       "      <td>Corio</td>\n",
       "      <td>2/6/2012</td>\n",
       "      <td>Death</td>\n",
       "      <td>Unknown</td>\n",
       "      <td>Dog</td>\n",
       "    </tr>\n",
       "    <tr>\n",
       "      <th>freq</th>\n",
       "      <td>77</td>\n",
       "      <td>6</td>\n",
       "      <td>66</td>\n",
       "      <td>64</td>\n",
       "      <td>299</td>\n",
       "    </tr>\n",
       "  </tbody>\n",
       "</table>\n",
       "</div>"
      ],
      "text/plain": [
       "       suburb incident_date injuries offender victim\n",
       "count     781           755      462      730    780\n",
       "unique     92           585      148      341     89\n",
       "top     Corio      2/6/2012    Death  Unknown    Dog\n",
       "freq       77             6       66       64    299"
      ]
     },
     "execution_count": 6,
     "metadata": {},
     "output_type": "execute_result"
    }
   ],
   "source": [
    "df.describe()"
   ]
  },
  {
   "cell_type": "code",
   "execution_count": 7,
   "metadata": {},
   "outputs": [
    {
     "data": {
      "text/plain": [
       "Unknown                 64\n",
       "NaN                     56\n",
       "Staffy                  42\n",
       "German Shepherd         20\n",
       "U/K                     19\n",
       "                        ..\n",
       "Whippet X Woulfhound     1\n",
       "not attached to RFS      1\n",
       "Spoodle                  1\n",
       "German sheperd           1\n",
       "Wolfhound/Cross          1\n",
       "Name: offender, Length: 342, dtype: int64"
      ]
     },
     "execution_count": 7,
     "metadata": {},
     "output_type": "execute_result"
    }
   ],
   "source": [
    "df.offender.value_counts(dropna=False)"
   ]
  },
  {
   "cell_type": "markdown",
   "metadata": {},
   "source": [
    "We need to remove any row with the 'Unknown', 'NaN', 'U/K'(assuming this stands for 'Unkown'). Are there any other acronyms used throughout the dataframe that could mean missing data? "
   ]
  },
  {
   "cell_type": "code",
   "execution_count": 8,
   "metadata": {},
   "outputs": [
    {
     "data": {
      "text/plain": [
       "Unknown            64\n",
       "Staffy             42\n",
       "German Shepherd    20\n",
       "U/K                19\n",
       "Blue Heeler        17\n",
       "?                  16\n",
       "??                 15\n",
       "Husky              12\n",
       "Jack Russell       11\n",
       "Kelpie              9\n",
       "Bull Terrier        9\n",
       "Rottweiler          9\n",
       "Staffys             7\n",
       "Border Collie       7\n",
       "u/k                 6\n",
       "Bull Mastiff        6\n",
       "Staffy's            6\n",
       "Staffy X            5\n",
       "Staffy x            5\n",
       "Unsure              5\n",
       "Name: offender, dtype: int64"
      ]
     },
     "execution_count": 8,
     "metadata": {},
     "output_type": "execute_result"
    }
   ],
   "source": [
    "df.offender.value_counts()[:20]"
   ]
  },
  {
   "cell_type": "code",
   "execution_count": 9,
   "metadata": {},
   "outputs": [
    {
     "data": {
      "text/plain": [
       "array(['??', 'Jack Russell', 'Sib Husky', 'Mastiff', 'Staf', 'Great Dane',\n",
       "       'POMX', 'Staffy', 'American Staffordshire', 'Labradoodle',\n",
       "       'Maltese x', 'no specified', 'Not specified on rfs',\n",
       "       'Hungarian Vizsla', 'Bull Terrier', 'Dalmatian',\n",
       "       'Alaskan/Malamute', 'Staghound, Mastiff/Cross',\n",
       "       'not attached to RFS', 'Rottweiler', 'Blue Heeler',\n",
       "       'Pomeranian/Cross', 'German Shepherd', '?', 'Shitzhu', 'kelpie x',\n",
       "       'Pitbull like', 'Lab x', 'bulldog x', 'bull terrier ',\n",
       "       'Blue Heeler x', '2 pitbulls& whippet', 'poodle x Schnauzer ',\n",
       "       'Pitbull x', 'Lab  ', 'Husky, German Shepherd', 'Samoyed',\n",
       "       'Heeler', 'Kelpie', 'St Bernard', 'StaffyJack Russell',\n",
       "       'Weimaraner', 'Staffy x 2', nan, 'Pitbull X', 'Huskies X 2',\n",
       "       'Bull Mastiff', 'Dachshund', 'Bulldog x', 'Mastiff X',\n",
       "       'Rotweilers', 'American Staffie', 'Border Collie', 'Husky',\n",
       "       'Staffy x2 ', 'Staffys', 'Lab', 'German Shephard', 'Boxer',\n",
       "       'German Shephard/Rotti', 'Greyhound',\n",
       "       'Staffy &West Highland Terrier', 'Blue Heeler/Kelpie', 'Staffies',\n",
       "       'StaffieFoxie', 'Jac Russel', 'Boxers',\n",
       "       'size of ridgeback, boxer face',\n",
       "       'notes updated by officer but no description of offending dog, no ID # and no MC',\n",
       "       'officer spoken to owner but dog details not updated on RFS, not linked to animal module',\n",
       "       'notes updated by officer but no animal link to this RFS',\n",
       "       'Tibetan',\n",
       "       'Dog seized and taken to GAWS but no animal link to this RFS',\n",
       "       'KelpieLab', 'Ridgeback',\n",
       "       'notes says dog impounded but no animal link to this RFS',\n",
       "       'See RFS 946389', 'Rednose Pitbull', 'Staffy X',\n",
       "       'Officers attended site and spoke to dog owner but not details or animal link to this RFS',\n",
       "       'No dog registered at this address at the time of incident, two lapsed rego only??',\n",
       "       \"Officer took statement from owner but have not added offending dog's detail, no animal linked to this RFS\",\n",
       "       'no dogs currently registered at 2/2 Gumtree Ct at the time of incident,there were 2 lapsed rego',\n",
       "       'according to RFS notes dog owner interviewed and dog signed over to Council, no details of offending dog',\n",
       "       'Ridgeback/Bull Mastiff', 'Cattle dog', 'Staffy, Kelpie',\n",
       "       'RFS not linked to animal',\n",
       "       'notes says  Impounding Officer to issue infringement for DAL. No animal linked to this RFS',\n",
       "       'Whippet X', \"RFS notes not updated with offending dog's details\",\n",
       "       'notes said infringement issued but no animal linked to this RFS',\n",
       "       'Spitz', 'Staffordshire/Cross, Rhodesian Ridgeback', 'Shepherd X',\n",
       "       'Great Dane, Boxer', 'Anon Call, no dog sighted',\n",
       "       'Labrador/Retriever',\n",
       "       'dog was apparently given away 2 days after incident',\n",
       "       'Bull Mastiff?', 'Doberman', 'Mal/Shi', 'Rotti',\n",
       "       'unknown where the dog came from', 'Wolfhound/Cross',\n",
       "       '3rd RFS for same complaint, mavtel done RFS still Suspended',\n",
       "       'Jac Russell', 'Poodle', 'Staffy x', 'Maltese', 'STABUT', 'Labs',\n",
       "       'Staffy  ', \"Staffy's\", 'Jack Russel', 'Whippet', 'STA', 'Mastif',\n",
       "       'STAX', 'LAB', 'DOB', 'BUTX', 'HEE', 'GSH', 'Keehound', 'Pitbull',\n",
       "       'Terrier', 'Dalmation', 'Rhodesian Ridgback', 'Pitbuls',\n",
       "       'Rotweiler', 'Unknown', 'Bulldog', 'Staffie', 'Am Staf',\n",
       "       'STA & JAC', 'ROT & KEL', 'BUM', 'SAF', 'BOC', 'STAXJACX',\n",
       "       'KELSTAKELCOL', 'STAPIT', 'BOCGOL', 'BHE', 'MAL x 2 ', 'unknown',\n",
       "       'Boxer/Staffy', 'Pitbulls', 'Mareema Sheepdog', 'u/k', 'Huskies',\n",
       "       'German                                                                                                                                                                                                                          Shepherds',\n",
       "       'Heeler/Cross', 'Red Heeler', 'Malamute',\n",
       "       'German Shepherds (Guard Dogs)', 'Pomeranian', 'Huskys',\n",
       "       'German sheperd', 'German Shep', 'Boxer x', 'U/K',\n",
       "       'pitbull X bull mastif', 'bull mastiffs', 'Bull MastiffX',\n",
       "       'Whippet X Woulfhound', 'Maltese x2', 'stffy or pitbull',\n",
       "       'Staffyx', 'Staffy Shipperke', 'Rhodesian Ridgeback & ?', 'Pugx',\n",
       "       'GSP', 'staffy', 'Pitbullx', 'Mastiff x', 'rotti', 'German shep',\n",
       "       'pitbull', \"Rotti's\", 'staffy x', 'Ridgebackx',\n",
       "       'Terrier & hound x', 'malamute', 'weimeraner', \"staffy's\",\n",
       "       'Blue Heelers', 'maltese x', 'pitbull type', 'staffys',\n",
       "       'border collie', 'Daschund', 'Alsatian',\n",
       "       'American Staffy/English Staffy', 'Bedlington', 'Mini/Doberman',\n",
       "       'Kelpie X', 'Fox Terrier X', 'GreyhoundBull Dog', 'Unsure',\n",
       "       'Spoodle', 'Staghound/CrossBull Arab Cross', 'Lab?',\n",
       "       'Border CollieBull Mastiff/Cross', 'Staffordshire/Bull Terrier',\n",
       "       'Kelpie/Cross', 'Siberian Husky', 'Koolie',\n",
       "       '                                                                                                                ',\n",
       "       'Schnauzer', 'Curly Haired/Retriever', 'Lhasa Apso', 'Alsation',\n",
       "       'Bull/Staffy', 'German Shephard X', 'American Bulldogs',\n",
       "       'Greyhounds', 'Staffy and a Rotty', 'bull Terrier/ Pit Bull',\n",
       "       'Rotty', 'Kelpie X andGerman Shephard X', 'Bull Dog', 'Bitza',\n",
       "       'Small Dog', 'Shih Tzu', 'Labradors',\n",
       "       'Ridgeback                                                                                                                                                                                                                                  Cross',\n",
       "       'Cavalier KC Spaniel', 'Bull Mastif', 'Kangal', 'labrador',\n",
       "       'Wirehaired Terrier/Pointer', 'Staffordshire   American Bull Dog',\n",
       "       'Staffordshire   ', 'Doberman/Rottweller',\n",
       "       'Ridgeback/MastiffEnglish Bull Terrier', 'Malimute',\n",
       "       ' Jack Russel', 'Heelers', 'Newfoundland', 'Pug & Boxer',\n",
       "       'KelpieStaffy', 'German Shepherds', 'Cockerspaniel',\n",
       "       'Bull Terriers', 'Blue HeelerLabx', 'Maremma Sheepdog',\n",
       "       'Labrador/BoxerPomeranian/Cross', 'Labrador', 'Bull Mastiff/Cross',\n",
       "       'Staffordshire', 'Doberman Staffy', 'Akita/Cross',\n",
       "       'German S/H Pointer', 'Akita', \"Staffordshire's\", 'Border Collies',\n",
       "       'Shar Pei', '2 x Pitbulls??', '2 x Blue Heelers 1x Maltese',\n",
       "       'Maltese/Cross', '3 x Springer Spaniel', 'Staffordshire/ Boxer',\n",
       "       'Staffordshire cross', 'Maltese Shih-Tzu', 'Staffy Cross',\n",
       "       'Kelpie/Heeler', 'BoxerBoxer x',\n",
       "       '2 x one tan & 1 black Pitbull or Staffys',\n",
       "       'bull arab                                                                                                                                                                                                      bull arab x',\n",
       "       'Pitbull x Boxer', 'Australian Bull Dog', 'Staffordshire/Mastiff',\n",
       "       'Staffy/Bulldog?', 'Kelpie/Husky', 'Staffy x bull terriers',\n",
       "       'German                                                                                                                                                                                                                              Shepherd',\n",
       "       'Staffy ',\n",
       "       '1 x Staffy                                                                                                                                                                                                                                                  1 x Boxer pup',\n",
       "       'Staffordshire/CrossKelpie/Cross', 'Malamut', 'Pit Bull x',\n",
       "       'Pitbull X / Jack Russell', 'Cattledog', 'Staffy X / Pitbull',\n",
       "       'Border Collie/Blue Heeler', 'Boxer / Pitbull',\n",
       "       'Staffy / Also unknown breed', 'Rotti X', 'Poodle X',\n",
       "       '3 x German Shepherds', 'Staff / Pit bulls', 'Staghound X',\n",
       "       'Staffy and unknown breed', 'Heeler x Shepherd',\n",
       "       'Cavalier King Charles Spaniel', 'Rotti Lab Staffy',\n",
       "       'Husky  Bull Terrier', 'Great DaneAmerican Staffordshire',\n",
       "       'Boxer X', 'Jack Russell/Cross', 'Bulldog X', 'Jack Russell x',\n",
       "       'Staff/Bull Terrier', 'Pitt Bull x', '2 Bulldogs', '2 Staffies',\n",
       "       '1 Staffy & 1 Jack Russell', '1 Mastiff & 1 Boxer', '2 Labradors',\n",
       "       '2 Staffys', 'Pitt Bull Terrier', '2 Pitt Bulls',\n",
       "       'Maltese/Shihtzu', 'Pit Bull ', 'Chow Chow X', 'Jack Russells',\n",
       "       'Pitt Bull types', 'Maltese/Shih Tzu', 'Great Danes',\n",
       "       'Pitt Bull X', '2 Mastiff X', 'No dogs registered to the property',\n",
       "       '2 German Shepherds', 'Great Dane/Cross', 'Pitt Bull Type',\n",
       "       'Beagle', 'Staffy & Pitt Bull type', 'Golden Retriever/Cross',\n",
       "       \"2 Rotti's and 1 Bull Terrier\", \"2 Rott's \", 'Maltese type',\n",
       "       'Mareema', 'Foxy', 'Rotti X Ridgeback', 'French Poodles',\n",
       "       'German Shepherd& Staffy', 'Bull Arab', 'English Staffy', 'Bitsa',\n",
       "       'JAC'], dtype=object)"
      ]
     },
     "execution_count": 9,
     "metadata": {},
     "output_type": "execute_result"
    }
   ],
   "source": [
    "df.offender.unique()"
   ]
  },
  {
   "cell_type": "markdown",
   "metadata": {},
   "source": [
    "2 observations:\n",
    "\n",
    "1. It seems like there is a lot more missing data than initially observed. '??', '?', 'u/k', are just a few more examples of missing data. I will create a list with all of the different words used throughout the dataframe which signify missing data. \n",
    "\n",
    "2. Dog breeds are inconsistently written. Example - 'Staffy' is written many different ways. 'Staffy', 'Staffy X', 'staffy' to name a few. I'll need to go through the dataset and make sure that each dog breed is consistently written in order to get accurate stats. "
   ]
  },
  {
   "cell_type": "code",
   "execution_count": 10,
   "metadata": {},
   "outputs": [],
   "source": [
    "# I will also include vague dog descriptions in the list of unknown data since it's subjective. \n",
    "# Example - 'size of ridgeback, boxer face'. This doesn't necessarily mean that it's a boxer. \n",
    "\n",
    "\n",
    "missing_data = ['Unknown', 'unknown', 'NaN', 'U/K', '?', '??', 'u/k', 'no specified', 'Not specified on rfs', \n",
    "                'not attached to RFS', 'size of ridgeback, boxer face', \n",
    "                \"notes updated by officer but no description of offending dog, no ID # and no MC No dog registered at this address at the time of incident, two lapsed rego only??\",\n",
    "                'notes updated by officer but no description of offending dog, no ID # and no MC',\n",
    "                'notes updated by officer but no animal link to this RFS',\n",
    "                'See RFS 946389',\n",
    "                'Dog seized and taken to GAWS but no animal link to this RFS',\n",
    "                'notes says dog impounded but no animal link to this RFS',\n",
    "                'officer spoken to owner but dog details not updated on RFS, not linked to animal module',\n",
    "                \"Officer took statement from owner but have not added offending dog\\'s detail, no animal linked to this RFS\",\n",
    "                'no dogs currently registered at 2/2 Gumtree Ct at the time of incident,there were 2 lapsed rego',\n",
    "                'according to RFS notes dog owner interviewed and dog signed over to Council, no details of offending dog',\n",
    "                'RFS not linked to animal', \n",
    "                'Officers attended site and spoke to dog owner but not details or animal link to this RFS',\n",
    "                'No dog registered at this address at the time of incident, two lapsed rego only??',\n",
    "                'notes says  Impounding Officer to issue infringement for DAL. No animal linked to this RFS',\n",
    "                \"RFS notes not updated with offending dog's details\",\n",
    "                'notes said infringement issued but no animal linked to this RFS',\n",
    "                'Anon Call, no dog sighted', \n",
    "                'dog was apparently given away 2 days after incident',\n",
    "                'unknown where the dog came from', \n",
    "                '3rd RFS for same complaint, mavtel done RFS still Suspended',\n",
    "                'No dogs registered to the property',             \n",
    "               ]  "
   ]
  },
  {
   "cell_type": "code",
   "execution_count": 11,
   "metadata": {},
   "outputs": [],
   "source": [
    "df['offender'] = df['offender'].replace(missing_data, np.nan)"
   ]
  },
  {
   "cell_type": "code",
   "execution_count": 12,
   "metadata": {},
   "outputs": [
    {
     "data": {
      "text/plain": [
       "array([nan, 'Jack Russell', 'Sib Husky', 'Mastiff', 'Staf', 'Great Dane',\n",
       "       'POMX', 'Staffy', 'American Staffordshire', 'Labradoodle',\n",
       "       'Maltese x', 'Hungarian Vizsla', 'Bull Terrier', 'Dalmatian',\n",
       "       'Alaskan/Malamute', 'Staghound, Mastiff/Cross', 'Rottweiler',\n",
       "       'Blue Heeler', 'Pomeranian/Cross', 'German Shepherd', 'Shitzhu',\n",
       "       'kelpie x', 'Pitbull like', 'Lab x', 'bulldog x', 'bull terrier ',\n",
       "       'Blue Heeler x', '2 pitbulls& whippet', 'poodle x Schnauzer ',\n",
       "       'Pitbull x', 'Lab  ', 'Husky, German Shepherd', 'Samoyed',\n",
       "       'Heeler', 'Kelpie', 'St Bernard', 'StaffyJack Russell',\n",
       "       'Weimaraner', 'Staffy x 2', 'Pitbull X', 'Huskies X 2',\n",
       "       'Bull Mastiff', 'Dachshund', 'Bulldog x', 'Mastiff X',\n",
       "       'Rotweilers', 'American Staffie', 'Border Collie', 'Husky',\n",
       "       'Staffy x2 ', 'Staffys', 'Lab', 'German Shephard', 'Boxer',\n",
       "       'German Shephard/Rotti', 'Greyhound',\n",
       "       'Staffy &West Highland Terrier', 'Blue Heeler/Kelpie', 'Staffies',\n",
       "       'StaffieFoxie', 'Jac Russel', 'Boxers', 'Tibetan', 'KelpieLab',\n",
       "       'Ridgeback', 'Rednose Pitbull', 'Staffy X',\n",
       "       'Ridgeback/Bull Mastiff', 'Cattle dog', 'Staffy, Kelpie',\n",
       "       'Whippet X', 'Spitz', 'Staffordshire/Cross, Rhodesian Ridgeback',\n",
       "       'Shepherd X', 'Great Dane, Boxer', 'Labrador/Retriever',\n",
       "       'Bull Mastiff?', 'Doberman', 'Mal/Shi', 'Rotti', 'Wolfhound/Cross',\n",
       "       'Jac Russell', 'Poodle', 'Staffy x', 'Maltese', 'STABUT', 'Labs',\n",
       "       'Staffy  ', \"Staffy's\", 'Jack Russel', 'Whippet', 'STA', 'Mastif',\n",
       "       'STAX', 'LAB', 'DOB', 'BUTX', 'HEE', 'GSH', 'Keehound', 'Pitbull',\n",
       "       'Terrier', 'Dalmation', 'Rhodesian Ridgback', 'Pitbuls',\n",
       "       'Rotweiler', 'Bulldog', 'Staffie', 'Am Staf', 'STA & JAC',\n",
       "       'ROT & KEL', 'BUM', 'SAF', 'BOC', 'STAXJACX', 'KELSTAKELCOL',\n",
       "       'STAPIT', 'BOCGOL', 'BHE', 'MAL x 2 ', 'Boxer/Staffy', 'Pitbulls',\n",
       "       'Mareema Sheepdog', 'Huskies',\n",
       "       'German                                                                                                                                                                                                                          Shepherds',\n",
       "       'Heeler/Cross', 'Red Heeler', 'Malamute',\n",
       "       'German Shepherds (Guard Dogs)', 'Pomeranian', 'Huskys',\n",
       "       'German sheperd', 'German Shep', 'Boxer x',\n",
       "       'pitbull X bull mastif', 'bull mastiffs', 'Bull MastiffX',\n",
       "       'Whippet X Woulfhound', 'Maltese x2', 'stffy or pitbull',\n",
       "       'Staffyx', 'Staffy Shipperke', 'Rhodesian Ridgeback & ?', 'Pugx',\n",
       "       'GSP', 'staffy', 'Pitbullx', 'Mastiff x', 'rotti', 'German shep',\n",
       "       'pitbull', \"Rotti's\", 'staffy x', 'Ridgebackx',\n",
       "       'Terrier & hound x', 'malamute', 'weimeraner', \"staffy's\",\n",
       "       'Blue Heelers', 'maltese x', 'pitbull type', 'staffys',\n",
       "       'border collie', 'Daschund', 'Alsatian',\n",
       "       'American Staffy/English Staffy', 'Bedlington', 'Mini/Doberman',\n",
       "       'Kelpie X', 'Fox Terrier X', 'GreyhoundBull Dog', 'Unsure',\n",
       "       'Spoodle', 'Staghound/CrossBull Arab Cross', 'Lab?',\n",
       "       'Border CollieBull Mastiff/Cross', 'Staffordshire/Bull Terrier',\n",
       "       'Kelpie/Cross', 'Siberian Husky', 'Koolie',\n",
       "       '                                                                                                                ',\n",
       "       'Schnauzer', 'Curly Haired/Retriever', 'Lhasa Apso', 'Alsation',\n",
       "       'Bull/Staffy', 'German Shephard X', 'American Bulldogs',\n",
       "       'Greyhounds', 'Staffy and a Rotty', 'bull Terrier/ Pit Bull',\n",
       "       'Rotty', 'Kelpie X andGerman Shephard X', 'Bull Dog', 'Bitza',\n",
       "       'Small Dog', 'Shih Tzu', 'Labradors',\n",
       "       'Ridgeback                                                                                                                                                                                                                                  Cross',\n",
       "       'Cavalier KC Spaniel', 'Bull Mastif', 'Kangal', 'labrador',\n",
       "       'Wirehaired Terrier/Pointer', 'Staffordshire   American Bull Dog',\n",
       "       'Staffordshire   ', 'Doberman/Rottweller',\n",
       "       'Ridgeback/MastiffEnglish Bull Terrier', 'Malimute',\n",
       "       ' Jack Russel', 'Heelers', 'Newfoundland', 'Pug & Boxer',\n",
       "       'KelpieStaffy', 'German Shepherds', 'Cockerspaniel',\n",
       "       'Bull Terriers', 'Blue HeelerLabx', 'Maremma Sheepdog',\n",
       "       'Labrador/BoxerPomeranian/Cross', 'Labrador', 'Bull Mastiff/Cross',\n",
       "       'Staffordshire', 'Doberman Staffy', 'Akita/Cross',\n",
       "       'German S/H Pointer', 'Akita', \"Staffordshire's\", 'Border Collies',\n",
       "       'Shar Pei', '2 x Pitbulls??', '2 x Blue Heelers 1x Maltese',\n",
       "       'Maltese/Cross', '3 x Springer Spaniel', 'Staffordshire/ Boxer',\n",
       "       'Staffordshire cross', 'Maltese Shih-Tzu', 'Staffy Cross',\n",
       "       'Kelpie/Heeler', 'BoxerBoxer x',\n",
       "       '2 x one tan & 1 black Pitbull or Staffys',\n",
       "       'bull arab                                                                                                                                                                                                      bull arab x',\n",
       "       'Pitbull x Boxer', 'Australian Bull Dog', 'Staffordshire/Mastiff',\n",
       "       'Staffy/Bulldog?', 'Kelpie/Husky', 'Staffy x bull terriers',\n",
       "       'German                                                                                                                                                                                                                              Shepherd',\n",
       "       'Staffy ',\n",
       "       '1 x Staffy                                                                                                                                                                                                                                                  1 x Boxer pup',\n",
       "       'Staffordshire/CrossKelpie/Cross', 'Malamut', 'Pit Bull x',\n",
       "       'Pitbull X / Jack Russell', 'Cattledog', 'Staffy X / Pitbull',\n",
       "       'Border Collie/Blue Heeler', 'Boxer / Pitbull',\n",
       "       'Staffy / Also unknown breed', 'Rotti X', 'Poodle X',\n",
       "       '3 x German Shepherds', 'Staff / Pit bulls', 'Staghound X',\n",
       "       'Staffy and unknown breed', 'Heeler x Shepherd',\n",
       "       'Cavalier King Charles Spaniel', 'Rotti Lab Staffy',\n",
       "       'Husky  Bull Terrier', 'Great DaneAmerican Staffordshire',\n",
       "       'Boxer X', 'Jack Russell/Cross', 'Bulldog X', 'Jack Russell x',\n",
       "       'Staff/Bull Terrier', 'Pitt Bull x', '2 Bulldogs', '2 Staffies',\n",
       "       '1 Staffy & 1 Jack Russell', '1 Mastiff & 1 Boxer', '2 Labradors',\n",
       "       '2 Staffys', 'Pitt Bull Terrier', '2 Pitt Bulls',\n",
       "       'Maltese/Shihtzu', 'Pit Bull ', 'Chow Chow X', 'Jack Russells',\n",
       "       'Pitt Bull types', 'Maltese/Shih Tzu', 'Great Danes',\n",
       "       'Pitt Bull X', '2 Mastiff X', '2 German Shepherds',\n",
       "       'Great Dane/Cross', 'Pitt Bull Type', 'Beagle',\n",
       "       'Staffy & Pitt Bull type', 'Golden Retriever/Cross',\n",
       "       \"2 Rotti's and 1 Bull Terrier\", \"2 Rott's \", 'Maltese type',\n",
       "       'Mareema', 'Foxy', 'Rotti X Ridgeback', 'French Poodles',\n",
       "       'German Shepherd& Staffy', 'Bull Arab', 'English Staffy', 'Bitsa',\n",
       "       'JAC'], dtype=object)"
      ]
     },
     "execution_count": 12,
     "metadata": {},
     "output_type": "execute_result"
    }
   ],
   "source": [
    "df.offender.unique()"
   ]
  },
  {
   "cell_type": "markdown",
   "metadata": {},
   "source": [
    "It took a lot of copy/pasting bad data from the df to the 'missing_data' variable but it looks much cleaner now. "
   ]
  },
  {
   "cell_type": "code",
   "execution_count": 13,
   "metadata": {},
   "outputs": [
    {
     "data": {
      "text/html": [
       "<div>\n",
       "<style scoped>\n",
       "    .dataframe tbody tr th:only-of-type {\n",
       "        vertical-align: middle;\n",
       "    }\n",
       "\n",
       "    .dataframe tbody tr th {\n",
       "        vertical-align: top;\n",
       "    }\n",
       "\n",
       "    .dataframe thead th {\n",
       "        text-align: right;\n",
       "    }\n",
       "</style>\n",
       "<table border=\"1\" class=\"dataframe\">\n",
       "  <thead>\n",
       "    <tr style=\"text-align: right;\">\n",
       "      <th></th>\n",
       "      <th>suburb</th>\n",
       "      <th>incident_date</th>\n",
       "      <th>injuries</th>\n",
       "      <th>offender</th>\n",
       "      <th>victim</th>\n",
       "    </tr>\n",
       "  </thead>\n",
       "  <tbody>\n",
       "    <tr>\n",
       "      <th>0</th>\n",
       "      <td>Ocean Throughway</td>\n",
       "      <td>1/4/2015</td>\n",
       "      <td>no injuries</td>\n",
       "      <td>NaN</td>\n",
       "      <td>Dog</td>\n",
       "    </tr>\n",
       "    <tr>\n",
       "      <th>1</th>\n",
       "      <td>Ocean Grove</td>\n",
       "      <td>1/6/2015</td>\n",
       "      <td>bite marks</td>\n",
       "      <td>Jack Russell</td>\n",
       "      <td>Person/dog</td>\n",
       "    </tr>\n",
       "    <tr>\n",
       "      <th>2</th>\n",
       "      <td>Grovedale</td>\n",
       "      <td>1/7/2015</td>\n",
       "      <td>bites</td>\n",
       "      <td>NaN</td>\n",
       "      <td>Dog</td>\n",
       "    </tr>\n",
       "    <tr>\n",
       "      <th>3</th>\n",
       "      <td>Norlane</td>\n",
       "      <td>1/7/2015</td>\n",
       "      <td>bites</td>\n",
       "      <td>NaN</td>\n",
       "      <td>Cat</td>\n",
       "    </tr>\n",
       "    <tr>\n",
       "      <th>4</th>\n",
       "      <td>Corio</td>\n",
       "      <td>1/8/2015</td>\n",
       "      <td>bites</td>\n",
       "      <td>NaN</td>\n",
       "      <td>Dog</td>\n",
       "    </tr>\n",
       "  </tbody>\n",
       "</table>\n",
       "</div>"
      ],
      "text/plain": [
       "             suburb incident_date     injuries      offender      victim\n",
       "0  Ocean Throughway      1/4/2015  no injuries           NaN         Dog\n",
       "1       Ocean Grove      1/6/2015   bite marks  Jack Russell  Person/dog\n",
       "2         Grovedale      1/7/2015        bites           NaN         Dog\n",
       "3           Norlane      1/7/2015        bites           NaN         Cat\n",
       "4             Corio      1/8/2015        bites           NaN         Dog"
      ]
     },
     "execution_count": 13,
     "metadata": {},
     "output_type": "execute_result"
    }
   ],
   "source": [
    "df.head(5)"
   ]
  },
  {
   "cell_type": "markdown",
   "metadata": {},
   "source": [
    "I will remove the entire row wherever there is a NaN in the offender column. "
   ]
  },
  {
   "cell_type": "code",
   "execution_count": 14,
   "metadata": {},
   "outputs": [
    {
     "data": {
      "text/plain": [
       "(786, 5)"
      ]
     },
     "execution_count": 14,
     "metadata": {},
     "output_type": "execute_result"
    }
   ],
   "source": [
    "df.shape"
   ]
  },
  {
   "cell_type": "code",
   "execution_count": 15,
   "metadata": {},
   "outputs": [
    {
     "data": {
      "text/html": [
       "<div>\n",
       "<style scoped>\n",
       "    .dataframe tbody tr th:only-of-type {\n",
       "        vertical-align: middle;\n",
       "    }\n",
       "\n",
       "    .dataframe tbody tr th {\n",
       "        vertical-align: top;\n",
       "    }\n",
       "\n",
       "    .dataframe thead th {\n",
       "        text-align: right;\n",
       "    }\n",
       "</style>\n",
       "<table border=\"1\" class=\"dataframe\">\n",
       "  <thead>\n",
       "    <tr style=\"text-align: right;\">\n",
       "      <th></th>\n",
       "      <th>suburb</th>\n",
       "      <th>incident_date</th>\n",
       "      <th>injuries</th>\n",
       "      <th>offender</th>\n",
       "      <th>victim</th>\n",
       "    </tr>\n",
       "  </thead>\n",
       "  <tbody>\n",
       "    <tr>\n",
       "      <th>1</th>\n",
       "      <td>Ocean Grove</td>\n",
       "      <td>1/6/2015</td>\n",
       "      <td>bite marks</td>\n",
       "      <td>Jack Russell</td>\n",
       "      <td>Person/dog</td>\n",
       "    </tr>\n",
       "    <tr>\n",
       "      <th>6</th>\n",
       "      <td>Drysdale</td>\n",
       "      <td>1/22/2015</td>\n",
       "      <td>death, bites</td>\n",
       "      <td>Sib Husky</td>\n",
       "      <td>Cat/ sheep</td>\n",
       "    </tr>\n",
       "    <tr>\n",
       "      <th>7</th>\n",
       "      <td>Newtown</td>\n",
       "      <td>1/28/2015</td>\n",
       "      <td>bites</td>\n",
       "      <td>Mastiff</td>\n",
       "      <td>Dog</td>\n",
       "    </tr>\n",
       "    <tr>\n",
       "      <th>8</th>\n",
       "      <td>North Geelong</td>\n",
       "      <td>1/29/2015</td>\n",
       "      <td>bites</td>\n",
       "      <td>Staf</td>\n",
       "      <td>Dog</td>\n",
       "    </tr>\n",
       "    <tr>\n",
       "      <th>9</th>\n",
       "      <td>St Leonards</td>\n",
       "      <td>1/30/2015</td>\n",
       "      <td>Bites</td>\n",
       "      <td>Great Dane</td>\n",
       "      <td>Dog</td>\n",
       "    </tr>\n",
       "  </tbody>\n",
       "</table>\n",
       "</div>"
      ],
      "text/plain": [
       "          suburb incident_date      injuries      offender      victim\n",
       "1    Ocean Grove      1/6/2015    bite marks  Jack Russell  Person/dog\n",
       "6       Drysdale     1/22/2015  death, bites     Sib Husky  Cat/ sheep\n",
       "7        Newtown     1/28/2015         bites       Mastiff         Dog\n",
       "8  North Geelong     1/29/2015         bites          Staf         Dog\n",
       "9    St Leonards     1/30/2015         Bites    Great Dane         Dog"
      ]
     },
     "execution_count": 15,
     "metadata": {},
     "output_type": "execute_result"
    }
   ],
   "source": [
    "df.dropna(subset=['offender'], inplace=True)\n",
    "df.head(5)"
   ]
  },
  {
   "cell_type": "code",
   "execution_count": 16,
   "metadata": {},
   "outputs": [
    {
     "data": {
      "text/plain": [
       "(582, 5)"
      ]
     },
     "execution_count": 16,
     "metadata": {},
     "output_type": "execute_result"
    }
   ],
   "source": [
    "# Approximately 200 rows were removed after deleting missing data. \n",
    "\n",
    "df.shape"
   ]
  },
  {
   "cell_type": "markdown",
   "metadata": {},
   "source": [
    "Initial thoughts below:\n",
    "\n",
    "1. Create a dictionary of dog breeds to keep track of all of the different ways they were spelt in the original dataset\n",
    "2. The dictionary will then be used to consolidate the different spellings of the same breed into one\n",
    "\n",
    "After getting started on the dictionary (below) I realized that this would take too long (copy/pasting) so I decided to output what I currently have into an excel file and make the changes directly in excel, before reuploading the file. \n",
    "\n",
    "There were many different mixed dog breeds so I consolidated them into whatever type of breed was written first. This might not be the best practice but it was done in the interest of time as this was just to practice. \n",
    "\n",
    "Example: 'Lab X' was changed to 'Labrador' or 'Staffordshire/CrossKelpie/Cross' was changed to 'Staffordshire Bull Terrier' "
   ]
  },
  {
   "cell_type": "code",
   "execution_count": 17,
   "metadata": {},
   "outputs": [],
   "source": [
    "# df.offender.unique()\n",
    "\n",
    "# all pitbuls into pitbull terrier\n",
    "# stafford bull terrier all as wel\n",
    "# if more then 1 dog attacked of the same breed then i counted that as 1 attack\n",
    "# if more than 1 dog attacked but of dif breeds then I \n",
    "# cross dogs were put into the dog category befre the X\n",
    "\n",
    "\n",
    "# dog_breeds = {\n",
    "#    'Jack Russell': ['Jac Russell', 'Jack Russells'],\n",
    "#    'Staffordshire Bull Terrier': ['Staffy', 'Staf', 'English Staffy', '2 Staffies', 'Staffy X'],\n",
    "#    'Rottweiler': [\"2 Rott's\", 'Rottweiler', 'Rotweilers'],\n",
    "#    'Beagle':[],\n",
    "#    'German Shepherd': ['2 German Shepherds', '3 x German Shepherds', 'German Shepherd', 'German Shephard'],\n",
    "#    'Great Dane': ['Great Danes'],\n",
    "#    'Siberian Husky': ['Huskies X 2'],\n",
    "#    'Bulldog': ['2 Bulldogs', 'Australian Bull Dog', 'bulldog x', 'Bulldog x'  ],\n",
    "#    'Boxer': ['1 x Boxer pup']\n",
    "#    'Labrador': ['Labradors', 'Lab x' ]\n",
    "#    'Siberian Husky': ['Sib Husky']\n",
    "#    'Mastiff': ['Mastiff']\n",
    "#    'Pitbull Terrier': ['Pitbull like', 'Pitbull x','Pitbull X'  ]\n",
    "#            }\n",
    "\n",
    "            \n",
    "# dog_breeds2 = {keys: old_keys for old_keys, old_values in dog_breeds.items() for keys in old_values}\n",
    "# df.offender = df.offender.replace(dog_breeds2)"
   ]
  },
  {
   "cell_type": "code",
   "execution_count": 18,
   "metadata": {},
   "outputs": [],
   "source": [
    "# df.to_csv('amended_offender_names.csv', index=False)"
   ]
  },
  {
   "cell_type": "code",
   "execution_count": 19,
   "metadata": {},
   "outputs": [],
   "source": [
    "df2 = pd.read_csv('amended_offender_names2.csv')"
   ]
  },
  {
   "cell_type": "code",
   "execution_count": 20,
   "metadata": {},
   "outputs": [
    {
     "data": {
      "text/plain": [
       "(582, 5)"
      ]
     },
     "execution_count": 20,
     "metadata": {},
     "output_type": "execute_result"
    }
   ],
   "source": [
    "df2.shape"
   ]
  },
  {
   "cell_type": "code",
   "execution_count": null,
   "metadata": {},
   "outputs": [],
   "source": []
  },
  {
   "cell_type": "code",
   "execution_count": 21,
   "metadata": {},
   "outputs": [
    {
     "data": {
      "text/html": [
       "<div>\n",
       "<style scoped>\n",
       "    .dataframe tbody tr th:only-of-type {\n",
       "        vertical-align: middle;\n",
       "    }\n",
       "\n",
       "    .dataframe tbody tr th {\n",
       "        vertical-align: top;\n",
       "    }\n",
       "\n",
       "    .dataframe thead th {\n",
       "        text-align: right;\n",
       "    }\n",
       "</style>\n",
       "<table border=\"1\" class=\"dataframe\">\n",
       "  <thead>\n",
       "    <tr style=\"text-align: right;\">\n",
       "      <th></th>\n",
       "      <th>suburb</th>\n",
       "      <th>incident_date</th>\n",
       "      <th>injuries</th>\n",
       "      <th>offender</th>\n",
       "      <th>victim</th>\n",
       "    </tr>\n",
       "  </thead>\n",
       "  <tbody>\n",
       "    <tr>\n",
       "      <th>572</th>\n",
       "      <td>Little River</td>\n",
       "      <td>11/28/2010</td>\n",
       "      <td>NaN</td>\n",
       "      <td>German Shepherd</td>\n",
       "      <td>Sheep</td>\n",
       "    </tr>\n",
       "    <tr>\n",
       "      <th>573</th>\n",
       "      <td>Grovedale</td>\n",
       "      <td>11/30/2010</td>\n",
       "      <td>NaN</td>\n",
       "      <td>Border Collie</td>\n",
       "      <td>Child</td>\n",
       "    </tr>\n",
       "    <tr>\n",
       "      <th>574</th>\n",
       "      <td>Norlane</td>\n",
       "      <td>12/7/2010</td>\n",
       "      <td>NaN</td>\n",
       "      <td>Staffordshire Bull Terrier</td>\n",
       "      <td>Dog</td>\n",
       "    </tr>\n",
       "    <tr>\n",
       "      <th>575</th>\n",
       "      <td>Corio</td>\n",
       "      <td>12/14/2010</td>\n",
       "      <td>NaN</td>\n",
       "      <td>Bull Arab</td>\n",
       "      <td>Person</td>\n",
       "    </tr>\n",
       "    <tr>\n",
       "      <th>576</th>\n",
       "      <td>Unknown</td>\n",
       "      <td>12/20/2010</td>\n",
       "      <td>NaN</td>\n",
       "      <td>Staffordshire Bull Terrier</td>\n",
       "      <td>Dog</td>\n",
       "    </tr>\n",
       "    <tr>\n",
       "      <th>577</th>\n",
       "      <td>Grovedale</td>\n",
       "      <td>12/20/2010</td>\n",
       "      <td>NaN</td>\n",
       "      <td>Staffordshire Bull Terrier</td>\n",
       "      <td>Dog</td>\n",
       "    </tr>\n",
       "    <tr>\n",
       "      <th>578</th>\n",
       "      <td>Unknown</td>\n",
       "      <td>12/21/2010</td>\n",
       "      <td>NaN</td>\n",
       "      <td>Terrier</td>\n",
       "      <td>Person</td>\n",
       "    </tr>\n",
       "    <tr>\n",
       "      <th>579</th>\n",
       "      <td>Moolap</td>\n",
       "      <td>12/27/2010</td>\n",
       "      <td>NaN</td>\n",
       "      <td>Staffordshire Bull Terrier</td>\n",
       "      <td>Sheep</td>\n",
       "    </tr>\n",
       "    <tr>\n",
       "      <th>580</th>\n",
       "      <td>Ceres</td>\n",
       "      <td>12/31/2010</td>\n",
       "      <td>NaN</td>\n",
       "      <td>NaN</td>\n",
       "      <td>Person</td>\n",
       "    </tr>\n",
       "    <tr>\n",
       "      <th>581</th>\n",
       "      <td>Grovedale</td>\n",
       "      <td>12/6/2011</td>\n",
       "      <td>NaN</td>\n",
       "      <td>NaN</td>\n",
       "      <td>Person</td>\n",
       "    </tr>\n",
       "  </tbody>\n",
       "</table>\n",
       "</div>"
      ],
      "text/plain": [
       "           suburb incident_date injuries                    offender  victim\n",
       "572  Little River    11/28/2010      NaN             German Shepherd   Sheep\n",
       "573     Grovedale    11/30/2010      NaN               Border Collie   Child\n",
       "574       Norlane     12/7/2010      NaN  Staffordshire Bull Terrier     Dog\n",
       "575         Corio    12/14/2010      NaN                   Bull Arab  Person\n",
       "576       Unknown    12/20/2010      NaN  Staffordshire Bull Terrier     Dog\n",
       "577     Grovedale    12/20/2010      NaN  Staffordshire Bull Terrier     Dog\n",
       "578       Unknown    12/21/2010      NaN                     Terrier  Person\n",
       "579        Moolap    12/27/2010      NaN  Staffordshire Bull Terrier   Sheep\n",
       "580         Ceres    12/31/2010      NaN                         NaN  Person\n",
       "581     Grovedale     12/6/2011      NaN                         NaN  Person"
      ]
     },
     "execution_count": 21,
     "metadata": {},
     "output_type": "execute_result"
    }
   ],
   "source": [
    "df2.tail(10)"
   ]
  },
  {
   "cell_type": "code",
   "execution_count": 22,
   "metadata": {},
   "outputs": [
    {
     "data": {
      "text/plain": [
       "Staffordshire Bull Terrier    147\n",
       "German Shepherd                43\n",
       "Heeler                         37\n",
       "Pit Bull Terrier               35\n",
       "Husky                          32\n",
       "Rottweiler                     24\n",
       "Jack Russell                   22\n",
       "Labrador                       21\n",
       "Australian Kelpie              19\n",
       "Boxer                          13\n",
       "Border Collie                  12\n",
       "Bullmastiff                    12\n",
       "Maltese                        12\n",
       "Bull Terrier                   11\n",
       "Bulldog                        11\n",
       "Mastiff                        11\n",
       "Ridgeback                       9\n",
       "Great Dane                      7\n",
       "Greyhound                       7\n",
       "Terrier                         6\n",
       "Name: offender, dtype: int64"
      ]
     },
     "execution_count": 22,
     "metadata": {},
     "output_type": "execute_result"
    }
   ],
   "source": [
    "df2.offender.value_counts()[:20]"
   ]
  },
  {
   "cell_type": "code",
   "execution_count": 23,
   "metadata": {},
   "outputs": [
    {
     "data": {
      "text/plain": [
       "Wirehaired Terrier        1\n",
       "Hungarian Vizsla          1\n",
       "St Bernard                1\n",
       "Tibetan Terrier           1\n",
       "Shar Pei                  1\n",
       "Lhasa Apso                1\n",
       "Keeshond                  1\n",
       "Golden Retriever          1\n",
       "Schnauzer                 1\n",
       "Woldhound                 1\n",
       "Kangal                    1\n",
       "Cockerspaniel             1\n",
       "Spoodle                   1\n",
       "Koolie                    1\n",
       "Chow Chow                 1\n",
       "Cattledog                 1\n",
       "Newfoundland              1\n",
       "French Poodle             1\n",
       "Curly Haired/Retriever    1\n",
       "Samoyed                   1\n",
       "Name: offender, dtype: int64"
      ]
     },
     "execution_count": 23,
     "metadata": {},
     "output_type": "execute_result"
    }
   ],
   "source": [
    "df2.offender.value_counts()[-20:]"
   ]
  },
  {
   "cell_type": "code",
   "execution_count": 24,
   "metadata": {},
   "outputs": [],
   "source": [
    "# Amended all of the names in the 'offender' category. Added 'unknown' where the breed wasn't clear\n",
    "\n",
    "df2.dropna(subset=['offender'], inplace=True)"
   ]
  },
  {
   "cell_type": "code",
   "execution_count": 25,
   "metadata": {},
   "outputs": [
    {
     "data": {
      "text/plain": [
       "558"
      ]
     },
     "execution_count": 25,
     "metadata": {},
     "output_type": "execute_result"
    }
   ],
   "source": [
    "df2.offender.value_counts().sum()"
   ]
  },
  {
   "cell_type": "code",
   "execution_count": 26,
   "metadata": {},
   "outputs": [
    {
     "data": {
      "text/html": [
       "<div>\n",
       "<style scoped>\n",
       "    .dataframe tbody tr th:only-of-type {\n",
       "        vertical-align: middle;\n",
       "    }\n",
       "\n",
       "    .dataframe tbody tr th {\n",
       "        vertical-align: top;\n",
       "    }\n",
       "\n",
       "    .dataframe thead th {\n",
       "        text-align: right;\n",
       "    }\n",
       "</style>\n",
       "<table border=\"1\" class=\"dataframe\">\n",
       "  <thead>\n",
       "    <tr style=\"text-align: right;\">\n",
       "      <th></th>\n",
       "      <th>suburb</th>\n",
       "      <th>incident_date</th>\n",
       "      <th>injuries</th>\n",
       "      <th>offender</th>\n",
       "      <th>victim</th>\n",
       "    </tr>\n",
       "  </thead>\n",
       "  <tbody>\n",
       "    <tr>\n",
       "      <th>570</th>\n",
       "      <td>Corio</td>\n",
       "      <td>11/29/2010</td>\n",
       "      <td>NaN</td>\n",
       "      <td>Husky</td>\n",
       "      <td>Cat</td>\n",
       "    </tr>\n",
       "    <tr>\n",
       "      <th>571</th>\n",
       "      <td>Wallington</td>\n",
       "      <td>11/30/2010</td>\n",
       "      <td>NaN</td>\n",
       "      <td>Husky</td>\n",
       "      <td>Chickens</td>\n",
       "    </tr>\n",
       "    <tr>\n",
       "      <th>572</th>\n",
       "      <td>Little River</td>\n",
       "      <td>11/28/2010</td>\n",
       "      <td>NaN</td>\n",
       "      <td>German Shepherd</td>\n",
       "      <td>Sheep</td>\n",
       "    </tr>\n",
       "    <tr>\n",
       "      <th>573</th>\n",
       "      <td>Grovedale</td>\n",
       "      <td>11/30/2010</td>\n",
       "      <td>NaN</td>\n",
       "      <td>Border Collie</td>\n",
       "      <td>Child</td>\n",
       "    </tr>\n",
       "    <tr>\n",
       "      <th>574</th>\n",
       "      <td>Norlane</td>\n",
       "      <td>12/7/2010</td>\n",
       "      <td>NaN</td>\n",
       "      <td>Staffordshire Bull Terrier</td>\n",
       "      <td>Dog</td>\n",
       "    </tr>\n",
       "    <tr>\n",
       "      <th>575</th>\n",
       "      <td>Corio</td>\n",
       "      <td>12/14/2010</td>\n",
       "      <td>NaN</td>\n",
       "      <td>Bull Arab</td>\n",
       "      <td>Person</td>\n",
       "    </tr>\n",
       "    <tr>\n",
       "      <th>576</th>\n",
       "      <td>Unknown</td>\n",
       "      <td>12/20/2010</td>\n",
       "      <td>NaN</td>\n",
       "      <td>Staffordshire Bull Terrier</td>\n",
       "      <td>Dog</td>\n",
       "    </tr>\n",
       "    <tr>\n",
       "      <th>577</th>\n",
       "      <td>Grovedale</td>\n",
       "      <td>12/20/2010</td>\n",
       "      <td>NaN</td>\n",
       "      <td>Staffordshire Bull Terrier</td>\n",
       "      <td>Dog</td>\n",
       "    </tr>\n",
       "    <tr>\n",
       "      <th>578</th>\n",
       "      <td>Unknown</td>\n",
       "      <td>12/21/2010</td>\n",
       "      <td>NaN</td>\n",
       "      <td>Terrier</td>\n",
       "      <td>Person</td>\n",
       "    </tr>\n",
       "    <tr>\n",
       "      <th>579</th>\n",
       "      <td>Moolap</td>\n",
       "      <td>12/27/2010</td>\n",
       "      <td>NaN</td>\n",
       "      <td>Staffordshire Bull Terrier</td>\n",
       "      <td>Sheep</td>\n",
       "    </tr>\n",
       "  </tbody>\n",
       "</table>\n",
       "</div>"
      ],
      "text/plain": [
       "           suburb incident_date injuries                    offender    victim\n",
       "570         Corio    11/29/2010      NaN                       Husky       Cat\n",
       "571    Wallington    11/30/2010      NaN                       Husky  Chickens\n",
       "572  Little River    11/28/2010      NaN             German Shepherd     Sheep\n",
       "573     Grovedale    11/30/2010      NaN               Border Collie     Child\n",
       "574       Norlane     12/7/2010      NaN  Staffordshire Bull Terrier       Dog\n",
       "575         Corio    12/14/2010      NaN                   Bull Arab    Person\n",
       "576       Unknown    12/20/2010      NaN  Staffordshire Bull Terrier       Dog\n",
       "577     Grovedale    12/20/2010      NaN  Staffordshire Bull Terrier       Dog\n",
       "578       Unknown    12/21/2010      NaN                     Terrier    Person\n",
       "579        Moolap    12/27/2010      NaN  Staffordshire Bull Terrier     Sheep"
      ]
     },
     "execution_count": 26,
     "metadata": {},
     "output_type": "execute_result"
    }
   ],
   "source": [
    "df2.tail(10)"
   ]
  },
  {
   "cell_type": "code",
   "execution_count": 27,
   "metadata": {},
   "outputs": [
    {
     "data": {
      "text/plain": [
       "(558, 5)"
      ]
     },
     "execution_count": 27,
     "metadata": {},
     "output_type": "execute_result"
    }
   ],
   "source": [
    "df2.shape"
   ]
  },
  {
   "cell_type": "markdown",
   "metadata": {},
   "source": [
    "After removing the unknown dog breeds once again, we are left with 558 rows."
   ]
  },
  {
   "cell_type": "markdown",
   "metadata": {},
   "source": [
    "\"Generally speaking, the American Staffordshire terrier is nearly the same breed as the American pit bull terrier. Today, the main difference is in appearance. The American Staffordshire terrier is bred in part for AKC conformation and conforms to a stricter standard, particularly in size range.\"\n",
    "\n",
    "https://www.thesprucepets.com/american-staffordshire-terrier-1117908#:~:text=Generally%20speaking%2C%20the%20American%20Staffordshire,standard%2C%20particularly%20in%20size%20range.\n",
    "\n"
   ]
  },
  {
   "cell_type": "code",
   "execution_count": 28,
   "metadata": {},
   "outputs": [
    {
     "data": {
      "text/plain": [
       "Staffordshire Bull Terrier    0.263441\n",
       "German Shepherd               0.077061\n",
       "Heeler                        0.066308\n",
       "Pit Bull Terrier              0.062724\n",
       "Husky                         0.057348\n",
       "Rottweiler                    0.043011\n",
       "Jack Russell                  0.039427\n",
       "Labrador                      0.037634\n",
       "Australian Kelpie             0.034050\n",
       "Boxer                         0.023297\n",
       "Name: offender, dtype: float64"
      ]
     },
     "execution_count": 28,
     "metadata": {},
     "output_type": "execute_result"
    }
   ],
   "source": [
    "(df2.offender.value_counts() / df2.offender.notnull().sum())[:10]"
   ]
  },
  {
   "cell_type": "code",
   "execution_count": 29,
   "metadata": {},
   "outputs": [
    {
     "data": {
      "text/plain": [
       "Staffordshire Bull Terrier    147\n",
       "German Shepherd                43\n",
       "Heeler                         37\n",
       "Pit Bull Terrier               35\n",
       "Husky                          32\n",
       "Rottweiler                     24\n",
       "Jack Russell                   22\n",
       "Labrador                       21\n",
       "Australian Kelpie              19\n",
       "Boxer                          13\n",
       "Name: offender, dtype: int64"
      ]
     },
     "execution_count": 29,
     "metadata": {},
     "output_type": "execute_result"
    }
   ],
   "source": [
    "df2.offender.value_counts()[:10]"
   ]
  },
  {
   "cell_type": "code",
   "execution_count": 30,
   "metadata": {},
   "outputs": [
    {
     "data": {
      "text/plain": [
       "558"
      ]
     },
     "execution_count": 30,
     "metadata": {},
     "output_type": "execute_result"
    }
   ],
   "source": [
    "df2.offender.value_counts().sum()"
   ]
  },
  {
   "cell_type": "markdown",
   "metadata": {},
   "source": [
    "Based on the information provided by Geelong City it seems like that Staffordhire Bull Terriers accounted for more than 26% of all dog attacks. Combining that with that Pit Bull Terrier we get: 147+35 = 182 attacks. Percentage wise that's 32.62%. Nearly a third of all animal attacks that occurred between 2010 - 2015 were by either the Staffordshire Bull Terrier or the Pit Bull Terrier.  "
   ]
  },
  {
   "cell_type": "code",
   "execution_count": 31,
   "metadata": {},
   "outputs": [],
   "source": [
    "dog_attacks = df2.offender.value_counts() "
   ]
  },
  {
   "cell_type": "code",
   "execution_count": 32,
   "metadata": {},
   "outputs": [
    {
     "data": {
      "image/png": "[encoded data removed]",
      "text/plain": [
       "<Figure size 1008x576 with 1 Axes>"
      ]
     },
     "metadata": {
      "needs_background": "light"
     },
     "output_type": "display_data"
    }
   ],
   "source": [
    "attack_count = df2['offender'].value_counts().nlargest(20).plot(kind='bar',\n",
    "                                    figsize=(14,8),\n",
    "                                    title=\"Dog attack incidents between 2010-2015\", color = 'skyblue')\n",
    "\n",
    "attack_count.set_xlabel(\"Dog Breeds\")\n",
    "attack_count.set_ylabel(\"Number of attacks\")\n",
    "\n",
    "plt.rc('xtick', labelsize=12) \n",
    "plt.rc('ytick', labelsize=12) \n",
    "\n",
    "plt.rcParams.update({'font.size': 12})"
   ]
  },
  {
   "cell_type": "code",
   "execution_count": 33,
   "metadata": {},
   "outputs": [
    {
     "data": {
      "text/plain": [
       "Death              39\n",
       "Bite               24\n",
       "Broken Skin        18\n",
       "Dead               18\n",
       "U/K                10\n",
       "Bruising            8\n",
       "Unknown             8\n",
       "Severe Tearing      7\n",
       "Taken to vet        7\n",
       "bite                7\n",
       "Bite                6\n",
       "Puncture wounds     6\n",
       "death               6\n",
       "Puncture wound      5\n",
       "Puncture Wounds     4\n",
       "?                   4\n",
       "bites               4\n",
       "Puncture            4\n",
       "Bite on arm         3\n",
       "Minor Bites         3\n",
       "Name: injuries, dtype: int64"
      ]
     },
     "execution_count": 33,
     "metadata": {},
     "output_type": "execute_result"
    }
   ],
   "source": [
    "df2.injuries.value_counts()[:20]"
   ]
  },
  {
   "cell_type": "markdown",
   "metadata": {},
   "source": [
    "Things to do later:\n",
    "\n",
    "- Clean up incidents data\n",
    "- Compare the different breeds to the type of incidents\n",
    "- Visualize incidents data with the type of breed to see which dogs lead to more severe cases\n",
    "- Try to find a dataset with the amount of registered animals in Greater Geelong between 2010-2015. I'll be able to understand if Staffordshire Bull Terriers really do attack proportionally more often in comparison to other dog breeds. Or, do they attack more often simply because they are more popular and thus there are more of them in the city? "
   ]
  },
  {
   "cell_type": "code",
   "execution_count": null,
   "metadata": {},
   "outputs": [],
   "source": []
  }
 ],
 "metadata": {
  "kernelspec": {
   "display_name": "Python 3",
   "language": "python",
   "name": "python3"
  },
  "language_info": {
   "codemirror_mode": {
    "name": "ipython",
    "version": 3
   },
   "file_extension": ".py",
   "mimetype": "text/x-python",
   "name": "python",
   "nbconvert_exporter": "python",
   "pygments_lexer": "ipython3",
   "version": "3.7.6"
  }
 },
 "nbformat": 4,
 "nbformat_minor": 4
}
